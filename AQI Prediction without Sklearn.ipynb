{
 "cells": [
  {
   "cell_type": "code",
   "execution_count": 1,
   "id": "b722bb4a",
   "metadata": {},
   "outputs": [],
   "source": [
    "import pandas as pd\n",
    "import numpy as np"
   ]
  },
  {
   "cell_type": "code",
   "execution_count": 2,
   "id": "6b5cf521",
   "metadata": {},
   "outputs": [
    {
     "name": "stderr",
     "output_type": "stream",
     "text": [
      "C:\\Users\\ajayb\\AppData\\Local\\Temp\\ipykernel_20764\\3305233365.py:4: DtypeWarning: Columns (15) have mixed types. Specify dtype option on import or set low_memory=False.\n",
      "  df_4=pd.read_csv('station_hour.csv')\n"
     ]
    }
   ],
   "source": [
    "df_1=pd.read_csv('city_day.csv')\n",
    "df_2=pd.read_csv('city_hour.csv')\n",
    "df_3=pd.read_csv('station_day.csv')\n",
    "df_4=pd.read_csv('station_hour.csv')\n",
    "df_5=pd.read_csv('stations.csv')"
   ]
  },
  {
   "cell_type": "code",
   "execution_count": 3,
   "id": "48b9b26c",
   "metadata": {},
   "outputs": [],
   "source": [
    "df_2['Datetime'] = pd.to_datetime(df_2['Datetime'])"
   ]
  },
  {
   "cell_type": "code",
   "execution_count": 4,
   "id": "ffac7b3f",
   "metadata": {},
   "outputs": [],
   "source": [
    "df_2['Date'] = df_2['Datetime'].dt.date"
   ]
  },
  {
   "cell_type": "code",
   "execution_count": 5,
   "id": "a93aa1cb",
   "metadata": {},
   "outputs": [],
   "source": [
    "df_2 = df_2.drop(['Datetime'], axis = 1)"
   ]
  },
  {
   "cell_type": "code",
   "execution_count": 6,
   "id": "f2579ab5",
   "metadata": {},
   "outputs": [],
   "source": [
    "merge1 = pd.concat([df_1, df_2], axis = 0)"
   ]
  },
  {
   "cell_type": "code",
   "execution_count": 7,
   "id": "38ea303d",
   "metadata": {},
   "outputs": [],
   "source": [
    "df_4['Datetime'] = pd.to_datetime(df_4['Datetime'])"
   ]
  },
  {
   "cell_type": "code",
   "execution_count": 8,
   "id": "10c3d27b",
   "metadata": {},
   "outputs": [],
   "source": [
    "df_4['Date'] = df_4['Datetime'].dt.date"
   ]
  },
  {
   "cell_type": "code",
   "execution_count": 9,
   "id": "2072ebe4",
   "metadata": {},
   "outputs": [],
   "source": [
    "df_4 = df_4.drop(['Datetime'], axis = 1)"
   ]
  },
  {
   "cell_type": "code",
   "execution_count": 10,
   "id": "c1f3559d",
   "metadata": {},
   "outputs": [],
   "source": [
    "merge2 = pd.concat([df_3, df_4], axis = 0)"
   ]
  },
  {
   "cell_type": "code",
   "execution_count": 11,
   "id": "88d233da",
   "metadata": {},
   "outputs": [],
   "source": [
    "merged3=pd.merge(df_5,merge2,on='StationId')"
   ]
  },
  {
   "cell_type": "code",
   "execution_count": 12,
   "id": "62f89b47",
   "metadata": {},
   "outputs": [],
   "source": [
    "# concatenating df1 and df2 along rows\n",
    "df = pd.concat([merge2, merged3], axis=0)"
   ]
  },
  {
   "cell_type": "code",
   "execution_count": 13,
   "id": "93dd5fa8",
   "metadata": {},
   "outputs": [],
   "source": [
    "class Node:\n",
    "    def __init__(self, feature=None, threshold=None, left=None, right=None, value=None):\n",
    "        self.feature = feature\n",
    "        self.threshold = threshold\n",
    "        self.left = left\n",
    "        self.right = right\n",
    "        self.value = value"
   ]
  },
  {
   "cell_type": "code",
   "execution_count": 14,
   "id": "0ce16062",
   "metadata": {},
   "outputs": [],
   "source": [
    "class DecisionTreeRegressor:\n",
    "    def __init__(self, max_depth=None):\n",
    "        self.max_depth = max_depth\n",
    "        \n",
    "    def mse(self, y):\n",
    "        return np.mean((y - np.mean(y)) ** 2)\n",
    "    \n",
    "    def split(self, X, y, idx, split_val):\n",
    "        left_idx = np.argwhere(X[:, idx] <= split_val).flatten()\n",
    "        right_idx = np.argwhere(X[:, idx] > split_val).flatten()\n",
    "        \n",
    "        if len(left_idx) == 0 or len(right_idx) == 0:\n",
    "            return None, None\n",
    "        \n",
    "        left_X, left_y = X[left_idx], y[left_idx]\n",
    "        right_X, right_y = X[right_idx], y[right_idx]\n",
    "        \n",
    "        left_mse, right_mse = self.mse(left_y), self.mse(right_y)\n",
    "        return left_X, left_y, right_X, right_y, left_mse + right_mse\n",
    "    \n",
    "    def find_best_split(self, X, y):\n",
    "        best_idx, best_val, best_mse = None, None, np.inf\n",
    "        \n",
    "        for idx in range(X.shape[1]):\n",
    "            for val in np.unique(X[:, idx]):\n",
    "                left_X, left_y, right_X, right_y, mse = self.split(X, y, idx, val)\n",
    "                if mse is not None and mse < best_mse:\n",
    "                    best_idx, best_val, best_mse = idx, val, mse\n",
    "        \n",
    "        return best_idx, best_val, best_mse\n",
    "    \n",
    "    def fit(self, X, y, depth=0):\n",
    "        if self.max_depth is not None and depth >= self.max_depth:\n",
    "            self.left, self.right = None, None\n",
    "            self.prediction = np.mean(y)\n",
    "            return\n",
    "        \n",
    "        idx, val, mse = self.find_best_split(X, y)\n",
    "        if idx is None:\n",
    "            self.left, self.right = None, None\n",
    "            self.prediction = np.mean(y)\n",
    "            return\n",
    "        \n",
    "        left_X, left_y, right_X, right_y, _ = self.split(X, y, idx, val)\n",
    "        self.feature_idx = idx\n",
    "        self.split_val = val\n",
    "        self.left = DecisionTreeRegressor(max_depth=self.max_depth)\n",
    "        self.right = DecisionTreeRegressor(max_depth=self.max_depth)\n",
    "        self.left.fit(left_X, left_y, depth=depth+1)\n",
    "        self.right.fit(right_X, right_y, depth=depth+1)\n",
    "    \n",
    "    def predict(self, X):\n",
    "        if self.left is None and self.right is None:\n",
    "            return self.prediction\n",
    "        \n",
    "        if X[self.feature_idx] <= self.split_val:\n",
    "            return self.left.predict(X)\n",
    "        else:\n",
    "            return self.right.predict(X)"
   ]
  },
  {
   "cell_type": "code",
   "execution_count": 15,
   "id": "2fc8977c",
   "metadata": {},
   "outputs": [],
   "source": [
    "class RandomForestRegressor:\n",
    "    def __init__(self, n_estimators=100, max_depth=None, min_samples_split=2):\n",
    "        self.n_estimators = n_estimators\n",
    "        self.max_depth = max_depth\n",
    "        self.min_samples_split = min_samples_split\n",
    "        self.trees = []\n",
    "\n",
    "    def fit(self, X, y):\n",
    "        for i in range(self.n_estimators):\n",
    "            tree = DecisionTreeRegressor(max_depth=self.max_depth, min_samples_split=self.min_samples_split)\n",
    "            tree.fit(X, y)\n",
    "            self.trees.append(tree)\n",
    "\n",
    "    def predict(self, X):\n",
    "        predictions = []\n",
    "        for tree in self.trees:\n",
    "            predictions.append(tree.predict(X))\n",
    "        return np.mean(predictions, axis=0)"
   ]
  },
  {
   "cell_type": "code",
   "execution_count": 16,
   "id": "f4e9d601",
   "metadata": {},
   "outputs": [
    {
     "data": {
      "text/plain": [
       "StationId       object\n",
       "Date            object\n",
       "PM2.5          float64\n",
       "PM10           float64\n",
       "NO             float64\n",
       "NO2            float64\n",
       "NOx            float64\n",
       "NH3            float64\n",
       "CO             float64\n",
       "SO2            float64\n",
       "O3             float64\n",
       "Benzene        float64\n",
       "Toluene        float64\n",
       "Xylene         float64\n",
       "AQI            float64\n",
       "AQI_Bucket      object\n",
       "StationName     object\n",
       "City            object\n",
       "State           object\n",
       "Status          object\n",
       "dtype: object"
      ]
     },
     "execution_count": 16,
     "metadata": {},
     "output_type": "execute_result"
    }
   ],
   "source": [
    "df.dtypes"
   ]
  },
  {
   "cell_type": "code",
   "execution_count": 17,
   "id": "1fcb6be2",
   "metadata": {},
   "outputs": [],
   "source": [
    "from sklearn.preprocessing import LabelEncoder\n",
    "\n",
    "#create instance of label encoder\n",
    "lab = LabelEncoder()\n",
    "\n",
    "#perform label encoding on 'team' column\n",
    "df['StationId'] = lab.fit_transform(df['StationId'])"
   ]
  },
  {
   "cell_type": "code",
   "execution_count": 20,
   "id": "5af8beae",
   "metadata": {},
   "outputs": [],
   "source": [
    "df['Date'] = pd.to_numeric(df['Date'], errors='coerce')"
   ]
  },
  {
   "cell_type": "code",
   "execution_count": 36,
   "id": "d02a0649",
   "metadata": {},
   "outputs": [],
   "source": [
    "df=df.dropna()"
   ]
  },
  {
   "cell_type": "code",
   "execution_count": 21,
   "id": "8603e676",
   "metadata": {},
   "outputs": [],
   "source": [
    "#create instance of label encoder\n",
    "lab = LabelEncoder()\n",
    "\n",
    "#perform label encoding on 'team' column\n",
    "df['Date'] = lab.fit_transform(df['Date'])"
   ]
  },
  {
   "cell_type": "code",
   "execution_count": 22,
   "id": "e43b5570",
   "metadata": {},
   "outputs": [],
   "source": [
    "#create instance of label encoder\n",
    "lab = LabelEncoder()\n",
    "\n",
    "#perform label encoding on 'team' column\n",
    "df['AQI_Bucket'] = lab.fit_transform(df['AQI_Bucket'])"
   ]
  },
  {
   "cell_type": "code",
   "execution_count": 23,
   "id": "80135377",
   "metadata": {},
   "outputs": [],
   "source": [
    "#create instance of label encoder\n",
    "lab = LabelEncoder()\n",
    "\n",
    "#perform label encoding on 'team' column\n",
    "df['StationName'] = lab.fit_transform(df['StationName'])"
   ]
  },
  {
   "cell_type": "code",
   "execution_count": 24,
   "id": "d4439cae",
   "metadata": {},
   "outputs": [],
   "source": [
    "#create instance of label encoder\n",
    "lab = LabelEncoder()\n",
    "\n",
    "#perform label encoding on 'team' column\n",
    "df['City'] = lab.fit_transform(df['City'])"
   ]
  },
  {
   "cell_type": "code",
   "execution_count": 25,
   "id": "780fe6df",
   "metadata": {},
   "outputs": [],
   "source": [
    "#create instance of label encoder\n",
    "lab = LabelEncoder()\n",
    "\n",
    "#perform label encoding on 'team' column\n",
    "df['State'] = lab.fit_transform(df['State'])"
   ]
  },
  {
   "cell_type": "code",
   "execution_count": 26,
   "id": "3b2f64d6",
   "metadata": {},
   "outputs": [],
   "source": [
    "#create instance of label encoder\n",
    "lab = LabelEncoder()\n",
    "\n",
    "#perform label encoding on 'team' column\n",
    "df['Status'] = lab.fit_transform(df['Status'])"
   ]
  },
  {
   "cell_type": "code",
   "execution_count": 27,
   "id": "2fec6c10",
   "metadata": {},
   "outputs": [],
   "source": [
    "from sklearn.model_selection import train_test_split"
   ]
  },
  {
   "cell_type": "code",
   "execution_count": 37,
   "id": "5982a377",
   "metadata": {},
   "outputs": [],
   "source": [
    "# Split the dataset into training and testing sets\n",
    "X = df.drop('AQI', axis=1)\n",
    "y = df['AQI']\n",
    "X_train, X_test, y_train, y_test = train_test_split(X, y, test_size=0.2, random_state=42)"
   ]
  },
  {
   "cell_type": "code",
   "execution_count": 42,
   "id": "10a85e74",
   "metadata": {},
   "outputs": [],
   "source": [
    "from sklearn.tree import DecisionTreeRegressor"
   ]
  },
  {
   "cell_type": "code",
   "execution_count": 39,
   "id": "9edb6af5",
   "metadata": {},
   "outputs": [],
   "source": [
    "rf = RandomForestRegressor()"
   ]
  },
  {
   "cell_type": "code",
   "execution_count": 40,
   "id": "26c82d54",
   "metadata": {},
   "outputs": [],
   "source": [
    "rf.fit(X_train, y_train)"
   ]
  },
  {
   "cell_type": "code",
   "execution_count": 41,
   "id": "d93fac28",
   "metadata": {},
   "outputs": [
    {
     "name": "stdout",
     "output_type": "stream",
     "text": [
      "MSE:  83.34398120862389\n",
      "R-squared:  0.9852801188388209\n"
     ]
    }
   ],
   "source": [
    "from sklearn.metrics import mean_squared_error, r2_score\n",
    "\n",
    "y_pred = rf.predict(X_test)\n",
    "mse = mean_squared_error(y_test, y_pred)\n",
    "r2 = r2_score(y_test, y_pred)\n",
    "print(\"MSE: \", mse)\n",
    "print(\"R-squared: \", r2)"
   ]
  },
  {
   "cell_type": "code",
   "execution_count": null,
   "id": "fc1e5e00",
   "metadata": {},
   "outputs": [],
   "source": []
  }
 ],
 "metadata": {
  "kernelspec": {
   "display_name": "Python 3 (ipykernel)",
   "language": "python",
   "name": "python3"
  },
  "language_info": {
   "codemirror_mode": {
    "name": "ipython",
    "version": 3
   },
   "file_extension": ".py",
   "mimetype": "text/x-python",
   "name": "python",
   "nbconvert_exporter": "python",
   "pygments_lexer": "ipython3",
   "version": "3.9.13"
  }
 },
 "nbformat": 4,
 "nbformat_minor": 5
}
