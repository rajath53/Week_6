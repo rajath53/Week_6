{
 "cells": [
  {
   "cell_type": "code",
   "execution_count": 1,
   "id": "bf7f3cb5",
   "metadata": {},
   "outputs": [],
   "source": [
    "import pandas as pd\n",
    "import numpy as np"
   ]
  },
  {
   "cell_type": "code",
   "execution_count": 2,
   "id": "71b32299",
   "metadata": {},
   "outputs": [],
   "source": [
    "df_1=pd.read_csv('MELBOURNE_HOUSE_PRICES_LESS.csv')\n",
    "df_2=pd.read_csv('Melbourne_housing_FULL.csv')"
   ]
  },
  {
   "cell_type": "code",
   "execution_count": 3,
   "id": "ca213481",
   "metadata": {},
   "outputs": [],
   "source": [
    "df=pd.merge(df_1,df_2,how='outer')"
   ]
  },
  {
   "cell_type": "code",
   "execution_count": 4,
   "id": "ca3e059a",
   "metadata": {},
   "outputs": [],
   "source": [
    "df=df.dropna()"
   ]
  },
  {
   "cell_type": "code",
   "execution_count": 5,
   "id": "e0cf1261",
   "metadata": {},
   "outputs": [],
   "source": [
    "from sklearn.preprocessing import LabelEncoder"
   ]
  },
  {
   "cell_type": "code",
   "execution_count": 6,
   "id": "a86497ea",
   "metadata": {},
   "outputs": [],
   "source": [
    "\n",
    "# Feature engineering\n",
    "df['Age'] = 2023 - df['YearBuilt']"
   ]
  },
  {
   "cell_type": "code",
   "execution_count": 7,
   "id": "bacb9700",
   "metadata": {},
   "outputs": [],
   "source": [
    "#create instance of label encoder\n",
    "lab = LabelEncoder()\n",
    "\n",
    "#perform label encoding on 'team' column\n",
    "df['Suburb'] = lab.fit_transform(df['Suburb'])"
   ]
  },
  {
   "cell_type": "code",
   "execution_count": 8,
   "id": "cbdd94f0",
   "metadata": {},
   "outputs": [],
   "source": [
    "#create instance of label encoder\n",
    "lab = LabelEncoder()\n",
    "\n",
    "#perform label encoding on 'team' column\n",
    "df['Address'] = lab.fit_transform(df['Address'])"
   ]
  },
  {
   "cell_type": "code",
   "execution_count": 9,
   "id": "b19b3cbe",
   "metadata": {},
   "outputs": [],
   "source": [
    "#create instance of label encoder\n",
    "lab = LabelEncoder()\n",
    "\n",
    "#perform label encoding on 'team' column\n",
    "df['Type'] = lab.fit_transform(df['Type'])"
   ]
  },
  {
   "cell_type": "code",
   "execution_count": 10,
   "id": "2b431a67",
   "metadata": {},
   "outputs": [],
   "source": [
    "#create instance of label encoder\n",
    "lab = LabelEncoder()\n",
    "\n",
    "#perform label encoding on 'team' column\n",
    "df['Method'] = lab.fit_transform(df['Method'])"
   ]
  },
  {
   "cell_type": "code",
   "execution_count": 11,
   "id": "7cae97ab",
   "metadata": {},
   "outputs": [],
   "source": [
    "#create instance of label encoder\n",
    "lab = LabelEncoder()\n",
    "\n",
    "#perform label encoding on 'team' column\n",
    "df['SellerG '] = lab.fit_transform(df['SellerG'])"
   ]
  },
  {
   "cell_type": "code",
   "execution_count": 12,
   "id": "dc3094a4",
   "metadata": {},
   "outputs": [],
   "source": [
    "#create instance of label encoder\n",
    "lab = LabelEncoder()\n",
    "\n",
    "#perform label encoding on 'team' column\n",
    "df['Date'] = lab.fit_transform(df['Date'])"
   ]
  },
  {
   "cell_type": "code",
   "execution_count": 13,
   "id": "cd273d72",
   "metadata": {},
   "outputs": [],
   "source": [
    "#create instance of label encoder\n",
    "lab = LabelEncoder()\n",
    "\n",
    "#perform label encoding on 'team' column\n",
    "df['Regionname'] = lab.fit_transform(df['Regionname'])"
   ]
  },
  {
   "cell_type": "code",
   "execution_count": 14,
   "id": "064fbdd7",
   "metadata": {},
   "outputs": [],
   "source": [
    "#create instance of label encoder\n",
    "lab = LabelEncoder()\n",
    "\n",
    "#perform label encoding on 'team' column\n",
    "df['CouncilArea'] = lab.fit_transform(df['CouncilArea'])"
   ]
  },
  {
   "cell_type": "code",
   "execution_count": 15,
   "id": "504111c1",
   "metadata": {},
   "outputs": [],
   "source": [
    "#create instance of label encoder\n",
    "lab = LabelEncoder()\n",
    "\n",
    "#perform label encoding on 'team' column\n",
    "df['SellerG '] = lab.fit_transform(df['SellerG'])"
   ]
  },
  {
   "cell_type": "code",
   "execution_count": 16,
   "id": "f315a520",
   "metadata": {},
   "outputs": [],
   "source": [
    "df.drop(['SellerG'],axis=1, inplace=True)"
   ]
  },
  {
   "cell_type": "code",
   "execution_count": 17,
   "id": "c2537903",
   "metadata": {},
   "outputs": [],
   "source": [
    "# Finalize the data\n",
    "X = df.drop(['Price'], axis=1)\n",
    "y = df['Price']\n"
   ]
  },
  {
   "cell_type": "code",
   "execution_count": 18,
   "id": "5e3a1271",
   "metadata": {},
   "outputs": [],
   "source": [
    "class Node:\n",
    "    def __init__(self, feature=None, threshold=None, left=None, right=None, value=None):\n",
    "        self.feature = feature\n",
    "        self.threshold = threshold\n",
    "        self.left = left\n",
    "        self.right = right\n",
    "        self.value = value"
   ]
  },
  {
   "cell_type": "code",
   "execution_count": 19,
   "id": "b741aa31",
   "metadata": {},
   "outputs": [],
   "source": [
    "class DecisionTreeRegressor:\n",
    "    def __init__(self, max_depth=None):\n",
    "        self.max_depth = max_depth\n",
    "        \n",
    "    def mse(self, y):\n",
    "        return np.mean((y - np.mean(y)) ** 2)\n",
    "    \n",
    "    def split(self, X, y, idx, split_val):\n",
    "        left_idx = np.argwhere(X[:, idx] <= split_val).flatten()\n",
    "        right_idx = np.argwhere(X[:, idx] > split_val).flatten()\n",
    "        \n",
    "        if len(left_idx) == 0 or len(right_idx) == 0:\n",
    "            return None, None\n",
    "        \n",
    "        left_X, left_y = X[left_idx], y[left_idx]\n",
    "        right_X, right_y = X[right_idx], y[right_idx]\n",
    "        \n",
    "        left_mse, right_mse = self.mse(left_y), self.mse(right_y)\n",
    "        return left_X, left_y, right_X, right_y, left_mse + right_mse\n",
    "    \n",
    "    def find_best_split(self, X, y):\n",
    "        best_idx, best_val, best_mse = None, None, np.inf\n",
    "        \n",
    "        for idx in range(X.shape[1]):\n",
    "            for val in np.unique(X[:, idx]):\n",
    "                left_X, left_y, right_X, right_y, mse = self.split(X, y, idx, val)\n",
    "                if mse is not None and mse < best_mse:\n",
    "                    best_idx, best_val, best_mse = idx, val, mse\n",
    "        \n",
    "        return best_idx, best_val, best_mse\n",
    "    \n",
    "    def fit(self, X, y, depth=0):\n",
    "        if self.max_depth is not None and depth >= self.max_depth:\n",
    "            self.left, self.right = None, None\n",
    "            self.prediction = np.mean(y)\n",
    "            return\n",
    "        \n",
    "        idx, val, mse = self.find_best_split(X, y)\n",
    "        if idx is None:\n",
    "            self.left, self.right = None, None\n",
    "            self.prediction = np.mean(y)\n",
    "            return\n",
    "        \n",
    "        left_X, left_y, right_X, right_y, _ = self.split(X, y, idx, val)\n",
    "        self.feature_idx = idx\n",
    "        self.split_val = val\n",
    "        self.left = DecisionTreeRegressor(max_depth=self.max_depth)\n",
    "        self.right = DecisionTreeRegressor(max_depth=self.max_depth)\n",
    "        self.left.fit(left_X, left_y, depth=depth+1)\n",
    "        self.right.fit(right_X, right_y, depth=depth+1)\n",
    "    \n",
    "    def predict(self, X):\n",
    "        if self.left is None and self.right is None:\n",
    "            return self.prediction\n",
    "        \n",
    "        if X[self.feature_idx] <= self.split_val:\n",
    "            return self.left.predict(X)\n",
    "        else:\n",
    "            return self.right.predict(X)"
   ]
  },
  {
   "cell_type": "code",
   "execution_count": 20,
   "id": "95eda709",
   "metadata": {},
   "outputs": [],
   "source": [
    "class RandomForestRegressor:\n",
    "    def __init__(self, n_estimators=100, max_depth=None, min_samples_split=2):\n",
    "        self.n_estimators = n_estimators\n",
    "        self.max_depth = max_depth\n",
    "        self.min_samples_split = min_samples_split\n",
    "        self.trees = []\n",
    "\n",
    "    def fit(self, X, y):\n",
    "        for i in range(self.n_estimators):\n",
    "            tree = DecisionTreeRegressor(max_depth=self.max_depth, min_samples_split=self.min_samples_split)\n",
    "            tree.fit(X, y)\n",
    "            self.trees.append(tree)\n",
    "\n",
    "    def predict(self, X):\n",
    "        predictions = []\n",
    "        for tree in self.trees:\n",
    "            predictions.append(tree.predict(X))\n",
    "        return np.mean(predictions, axis=0)"
   ]
  },
  {
   "cell_type": "code",
   "execution_count": 21,
   "id": "efd5df54",
   "metadata": {},
   "outputs": [],
   "source": [
    "from sklearn.model_selection import train_test_split\n",
    "# Split data into training and testing sets\n",
    "X_train, X_test, y_train, y_test = train_test_split(X, y, test_size=0.2, random_state=42)\n"
   ]
  },
  {
   "cell_type": "code",
   "execution_count": 22,
   "id": "f210a90e",
   "metadata": {},
   "outputs": [],
   "source": [
    "from sklearn.tree import DecisionTreeRegressor"
   ]
  },
  {
   "cell_type": "code",
   "execution_count": 23,
   "id": "05c9903f",
   "metadata": {},
   "outputs": [],
   "source": [
    "rf = RandomForestRegressor()"
   ]
  },
  {
   "cell_type": "code",
   "execution_count": 24,
   "id": "a6947eb8",
   "metadata": {},
   "outputs": [],
   "source": [
    "rf.fit(X_train, y_train)"
   ]
  },
  {
   "cell_type": "code",
   "execution_count": 25,
   "id": "b2d79d69",
   "metadata": {},
   "outputs": [
    {
     "name": "stdout",
     "output_type": "stream",
     "text": [
      "MSE:  174689844017.53775\n",
      "R-squared:  0.6329911470417242\n"
     ]
    }
   ],
   "source": [
    "from sklearn.metrics import mean_squared_error, r2_score\n",
    "\n",
    "y_pred = rf.predict(X_test)\n",
    "mse = mean_squared_error(y_test, y_pred)\n",
    "r2 = r2_score(y_test, y_pred)\n",
    "print(\"MSE: \", mse)\n",
    "print(\"R-squared: \", r2)"
   ]
  },
  {
   "cell_type": "code",
   "execution_count": null,
   "id": "ea52a40f",
   "metadata": {},
   "outputs": [],
   "source": []
  }
 ],
 "metadata": {
  "kernelspec": {
   "display_name": "Python 3 (ipykernel)",
   "language": "python",
   "name": "python3"
  },
  "language_info": {
   "codemirror_mode": {
    "name": "ipython",
    "version": 3
   },
   "file_extension": ".py",
   "mimetype": "text/x-python",
   "name": "python",
   "nbconvert_exporter": "python",
   "pygments_lexer": "ipython3",
   "version": "3.9.13"
  }
 },
 "nbformat": 4,
 "nbformat_minor": 5
}
